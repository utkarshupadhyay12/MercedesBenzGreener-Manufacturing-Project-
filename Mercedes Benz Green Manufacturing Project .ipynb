{
 "cells": [
  {
   "cell_type": "markdown",
   "metadata": {},
   "source": [
    "######################################################################\n",
    "\n",
    "'''    Project No. 1: Mercedes-Benz Greener Manufacturing       '''\n",
    "\n",
    "######################################################################\n"
   ]
  },
  {
   "cell_type": "markdown",
   "metadata": {},
   "source": [
    "#### Step 1 : Import the Required Libraries "
   ]
  },
  {
   "cell_type": "code",
   "execution_count": 1,
   "metadata": {},
   "outputs": [],
   "source": [
    "import pandas as pd \n",
    "import numpy as np\n",
    "from sklearn.decomposition import PCA   # for Dimensionality Reduction "
   ]
  },
  {
   "cell_type": "markdown",
   "metadata": {},
   "source": [
    "#### Step 2 : Read the data from train.csv"
   ]
  },
  {
   "cell_type": "code",
   "execution_count": 2,
   "metadata": {},
   "outputs": [],
   "source": [
    "df_train = pd.read_csv(\"train.csv\")"
   ]
  },
  {
   "cell_type": "markdown",
   "metadata": {},
   "source": [
    "#### Understanding the shape of data "
   ]
  },
  {
   "cell_type": "code",
   "execution_count": 3,
   "metadata": {},
   "outputs": [
    {
     "name": "stdout",
     "output_type": "stream",
     "text": [
      "Size of Training Set : 4209 rows and 378 columns\n"
     ]
    }
   ],
   "source": [
    "print('Size of Training Set : {} rows and {} columns' .format(*df_train.shape))"
   ]
  },
  {
   "cell_type": "markdown",
   "metadata": {},
   "source": [
    "#### Viewing Top 5 Rows in df_train dataset "
   ]
  },
  {
   "cell_type": "code",
   "execution_count": 4,
   "metadata": {},
   "outputs": [
    {
     "data": {
      "text/html": [
       "<div>\n",
       "<style scoped>\n",
       "    .dataframe tbody tr th:only-of-type {\n",
       "        vertical-align: middle;\n",
       "    }\n",
       "\n",
       "    .dataframe tbody tr th {\n",
       "        vertical-align: top;\n",
       "    }\n",
       "\n",
       "    .dataframe thead th {\n",
       "        text-align: right;\n",
       "    }\n",
       "</style>\n",
       "<table border=\"1\" class=\"dataframe\">\n",
       "  <thead>\n",
       "    <tr style=\"text-align: right;\">\n",
       "      <th></th>\n",
       "      <th>ID</th>\n",
       "      <th>y</th>\n",
       "      <th>X0</th>\n",
       "      <th>X1</th>\n",
       "      <th>X2</th>\n",
       "      <th>X3</th>\n",
       "      <th>X4</th>\n",
       "      <th>X5</th>\n",
       "      <th>X6</th>\n",
       "      <th>X8</th>\n",
       "      <th>...</th>\n",
       "      <th>X375</th>\n",
       "      <th>X376</th>\n",
       "      <th>X377</th>\n",
       "      <th>X378</th>\n",
       "      <th>X379</th>\n",
       "      <th>X380</th>\n",
       "      <th>X382</th>\n",
       "      <th>X383</th>\n",
       "      <th>X384</th>\n",
       "      <th>X385</th>\n",
       "    </tr>\n",
       "  </thead>\n",
       "  <tbody>\n",
       "    <tr>\n",
       "      <th>0</th>\n",
       "      <td>0</td>\n",
       "      <td>130.81</td>\n",
       "      <td>k</td>\n",
       "      <td>v</td>\n",
       "      <td>at</td>\n",
       "      <td>a</td>\n",
       "      <td>d</td>\n",
       "      <td>u</td>\n",
       "      <td>j</td>\n",
       "      <td>o</td>\n",
       "      <td>...</td>\n",
       "      <td>0</td>\n",
       "      <td>0</td>\n",
       "      <td>1</td>\n",
       "      <td>0</td>\n",
       "      <td>0</td>\n",
       "      <td>0</td>\n",
       "      <td>0</td>\n",
       "      <td>0</td>\n",
       "      <td>0</td>\n",
       "      <td>0</td>\n",
       "    </tr>\n",
       "    <tr>\n",
       "      <th>1</th>\n",
       "      <td>6</td>\n",
       "      <td>88.53</td>\n",
       "      <td>k</td>\n",
       "      <td>t</td>\n",
       "      <td>av</td>\n",
       "      <td>e</td>\n",
       "      <td>d</td>\n",
       "      <td>y</td>\n",
       "      <td>l</td>\n",
       "      <td>o</td>\n",
       "      <td>...</td>\n",
       "      <td>1</td>\n",
       "      <td>0</td>\n",
       "      <td>0</td>\n",
       "      <td>0</td>\n",
       "      <td>0</td>\n",
       "      <td>0</td>\n",
       "      <td>0</td>\n",
       "      <td>0</td>\n",
       "      <td>0</td>\n",
       "      <td>0</td>\n",
       "    </tr>\n",
       "    <tr>\n",
       "      <th>2</th>\n",
       "      <td>7</td>\n",
       "      <td>76.26</td>\n",
       "      <td>az</td>\n",
       "      <td>w</td>\n",
       "      <td>n</td>\n",
       "      <td>c</td>\n",
       "      <td>d</td>\n",
       "      <td>x</td>\n",
       "      <td>j</td>\n",
       "      <td>x</td>\n",
       "      <td>...</td>\n",
       "      <td>0</td>\n",
       "      <td>0</td>\n",
       "      <td>0</td>\n",
       "      <td>0</td>\n",
       "      <td>0</td>\n",
       "      <td>0</td>\n",
       "      <td>1</td>\n",
       "      <td>0</td>\n",
       "      <td>0</td>\n",
       "      <td>0</td>\n",
       "    </tr>\n",
       "    <tr>\n",
       "      <th>3</th>\n",
       "      <td>9</td>\n",
       "      <td>80.62</td>\n",
       "      <td>az</td>\n",
       "      <td>t</td>\n",
       "      <td>n</td>\n",
       "      <td>f</td>\n",
       "      <td>d</td>\n",
       "      <td>x</td>\n",
       "      <td>l</td>\n",
       "      <td>e</td>\n",
       "      <td>...</td>\n",
       "      <td>0</td>\n",
       "      <td>0</td>\n",
       "      <td>0</td>\n",
       "      <td>0</td>\n",
       "      <td>0</td>\n",
       "      <td>0</td>\n",
       "      <td>0</td>\n",
       "      <td>0</td>\n",
       "      <td>0</td>\n",
       "      <td>0</td>\n",
       "    </tr>\n",
       "    <tr>\n",
       "      <th>4</th>\n",
       "      <td>13</td>\n",
       "      <td>78.02</td>\n",
       "      <td>az</td>\n",
       "      <td>v</td>\n",
       "      <td>n</td>\n",
       "      <td>f</td>\n",
       "      <td>d</td>\n",
       "      <td>h</td>\n",
       "      <td>d</td>\n",
       "      <td>n</td>\n",
       "      <td>...</td>\n",
       "      <td>0</td>\n",
       "      <td>0</td>\n",
       "      <td>0</td>\n",
       "      <td>0</td>\n",
       "      <td>0</td>\n",
       "      <td>0</td>\n",
       "      <td>0</td>\n",
       "      <td>0</td>\n",
       "      <td>0</td>\n",
       "      <td>0</td>\n",
       "    </tr>\n",
       "  </tbody>\n",
       "</table>\n",
       "<p>5 rows × 378 columns</p>\n",
       "</div>"
      ],
      "text/plain": [
       "   ID       y  X0 X1  X2 X3 X4 X5 X6 X8  ...  X375  X376  X377  X378  X379  \\\n",
       "0   0  130.81   k  v  at  a  d  u  j  o  ...     0     0     1     0     0   \n",
       "1   6   88.53   k  t  av  e  d  y  l  o  ...     1     0     0     0     0   \n",
       "2   7   76.26  az  w   n  c  d  x  j  x  ...     0     0     0     0     0   \n",
       "3   9   80.62  az  t   n  f  d  x  l  e  ...     0     0     0     0     0   \n",
       "4  13   78.02  az  v   n  f  d  h  d  n  ...     0     0     0     0     0   \n",
       "\n",
       "   X380  X382  X383  X384  X385  \n",
       "0     0     0     0     0     0  \n",
       "1     0     0     0     0     0  \n",
       "2     0     1     0     0     0  \n",
       "3     0     0     0     0     0  \n",
       "4     0     0     0     0     0  \n",
       "\n",
       "[5 rows x 378 columns]"
      ]
     },
     "execution_count": 4,
     "metadata": {},
     "output_type": "execute_result"
    }
   ],
   "source": [
    "df_train.head()"
   ]
  },
  {
   "cell_type": "markdown",
   "metadata": {},
   "source": [
    "#### Step 3 : Collect the 'y'  values into array \n",
    "\n",
    "#### Here we are seperating the 'y' from the data as we will use this 'y' as to learn this prediction output"
   ]
  },
  {
   "cell_type": "code",
   "execution_count": 5,
   "metadata": {},
   "outputs": [],
   "source": [
    "y_train = df_train['y'].values "
   ]
  },
  {
   "cell_type": "code",
   "execution_count": 6,
   "metadata": {},
   "outputs": [
    {
     "data": {
      "text/plain": [
       "array([130.81,  88.53,  76.26, ..., 109.22,  87.48, 110.85])"
      ]
     },
     "execution_count": 6,
     "metadata": {},
     "output_type": "execute_result"
    }
   ],
   "source": [
    "y_train"
   ]
  },
  {
   "cell_type": "markdown",
   "metadata": {},
   "source": [
    "#### Step 4 : Understand the datatypes we have \n",
    "\n",
    "#### iterate through all columns which has 'X' in the name of the column "
   ]
  },
  {
   "cell_type": "code",
   "execution_count": 7,
   "metadata": {},
   "outputs": [
    {
     "name": "stdout",
     "output_type": "stream",
     "text": [
      "Number of Features: 376\n",
      "Feature types:\n"
     ]
    },
    {
     "data": {
      "text/plain": [
       "int64     368\n",
       "object      8\n",
       "dtype: int64"
      ]
     },
     "execution_count": 7,
     "metadata": {},
     "output_type": "execute_result"
    }
   ],
   "source": [
    "cols = [c for c in df_train.columns if 'X' in c ]\n",
    "\n",
    "print('Number of Features: {}'. format(len(cols)))\n",
    "\n",
    "print('Feature types:')\n",
    "\n",
    "df_train[cols].dtypes.value_counts()"
   ]
  },
  {
   "cell_type": "markdown",
   "metadata": {},
   "source": [
    "#### Step 5 : Count the data in each of the columns "
   ]
  },
  {
   "cell_type": "code",
   "execution_count": 8,
   "metadata": {},
   "outputs": [
    {
     "name": "stdout",
     "output_type": "stream",
     "text": [
      "Constant Feature: 12 , Binary Features: 356 , Categorical Features: 8\n",
      "\n",
      "Constant Features:  ['X11', 'X93', 'X107', 'X233', 'X235', 'X268', 'X289', 'X290', 'X293', 'X297', 'X330', 'X347']\n",
      "Categorical Features:  ['X0', 'X1', 'X2', 'X3', 'X4', 'X5', 'X6', 'X8']\n"
     ]
    }
   ],
   "source": [
    "counts = [[] ,[] ,[]]\n",
    "for c in cols :\n",
    "    type1 = df_train[c].dtype\n",
    "    unique1 = len(np.unique(df_train[c]))\n",
    "    if unique1==1:\n",
    "        counts[0].append(c)\n",
    "    elif unique1 == 2 and type1 == np.int64:\n",
    "        counts[1].append(c)\n",
    "    else:\n",
    "        counts[2].append(c)\n",
    "\n",
    "print('Constant Feature: {} , Binary Features: {} , Categorical Features: {}\\n' .format(*[len(c) for c in counts]))\n",
    "\n",
    "print('Constant Features: ',counts[0])\n",
    "print('Categorical Features: ',counts[2])"
   ]
  },
  {
   "cell_type": "markdown",
   "metadata": {},
   "source": [
    "#### Step 6 :  Read the data from test.csv "
   ]
  },
  {
   "cell_type": "code",
   "execution_count": 9,
   "metadata": {},
   "outputs": [],
   "source": [
    "df_test = pd.read_csv('test.csv')"
   ]
  },
  {
   "cell_type": "markdown",
   "metadata": {},
   "source": [
    "#### Remove Columns 'ID'and 'y' from the data as they will not be used for learning "
   ]
  },
  {
   "cell_type": "code",
   "execution_count": 10,
   "metadata": {},
   "outputs": [],
   "source": [
    "usable_columns = list(set(df_train.columns) - set(['ID' , 'y']))\n",
    "y_train = df_train['y'].values\n",
    "id_test = df_test['ID'].values\n",
    "\n",
    "x_train = df_train[usable_columns]\n",
    "x_test = df_test[usable_columns]"
   ]
  },
  {
   "cell_type": "markdown",
   "metadata": {},
   "source": [
    "#### Step 7 : Check for unique and null values for test and train set "
   ]
  },
  {
   "cell_type": "code",
   "execution_count": 11,
   "metadata": {},
   "outputs": [],
   "source": [
    "def check_missing_values(df):\n",
    "    if df.isnull().any().any():\n",
    "        print('There are missing values in the Dataframe')\n",
    "    else:\n",
    "        print('There are no missing values in a Dataframe')\n",
    "        "
   ]
  },
  {
   "cell_type": "code",
   "execution_count": 12,
   "metadata": {},
   "outputs": [
    {
     "name": "stdout",
     "output_type": "stream",
     "text": [
      "There are no missing values in a Dataframe\n",
      "There are no missing values in a Dataframe\n"
     ]
    }
   ],
   "source": [
    "check_missing_values(x_train)\n",
    "check_missing_values(x_test)"
   ]
  },
  {
   "cell_type": "markdown",
   "metadata": {},
   "source": [
    "#### Step 8 : If for any column(s) , the variance is equal to 0 \n",
    "\n",
    "#### We need to remove those Variable(s)\n",
    "\n",
    "#### And Then apply LABEL ENCODER"
   ]
  },
  {
   "cell_type": "code",
   "execution_count": 13,
   "metadata": {},
   "outputs": [
    {
     "name": "stderr",
     "output_type": "stream",
     "text": [
      "<ipython-input-13-847017c25c0e>:9: SettingWithCopyWarning: \n",
      "A value is trying to be set on a copy of a slice from a DataFrame.\n",
      "Try using .loc[row_indexer,col_indexer] = value instead\n",
      "\n",
      "See the caveats in the documentation: https://pandas.pydata.org/pandas-docs/stable/user_guide/indexing.html#returning-a-view-versus-a-copy\n",
      "  x_train[column] = x_train[column].apply(mapper)\n",
      "<ipython-input-13-847017c25c0e>:10: SettingWithCopyWarning: \n",
      "A value is trying to be set on a copy of a slice from a DataFrame.\n",
      "Try using .loc[row_indexer,col_indexer] = value instead\n",
      "\n",
      "See the caveats in the documentation: https://pandas.pydata.org/pandas-docs/stable/user_guide/indexing.html#returning-a-view-versus-a-copy\n",
      "  x_test[column] = x_test[column].apply(mapper)\n"
     ]
    },
    {
     "data": {
      "text/html": [
       "<div>\n",
       "<style scoped>\n",
       "    .dataframe tbody tr th:only-of-type {\n",
       "        vertical-align: middle;\n",
       "    }\n",
       "\n",
       "    .dataframe tbody tr th {\n",
       "        vertical-align: top;\n",
       "    }\n",
       "\n",
       "    .dataframe thead th {\n",
       "        text-align: right;\n",
       "    }\n",
       "</style>\n",
       "<table border=\"1\" class=\"dataframe\">\n",
       "  <thead>\n",
       "    <tr style=\"text-align: right;\">\n",
       "      <th></th>\n",
       "      <th>X243</th>\n",
       "      <th>X202</th>\n",
       "      <th>X352</th>\n",
       "      <th>X126</th>\n",
       "      <th>X304</th>\n",
       "      <th>X265</th>\n",
       "      <th>X253</th>\n",
       "      <th>X289</th>\n",
       "      <th>X101</th>\n",
       "      <th>X282</th>\n",
       "      <th>...</th>\n",
       "      <th>X208</th>\n",
       "      <th>X163</th>\n",
       "      <th>X280</th>\n",
       "      <th>X54</th>\n",
       "      <th>X284</th>\n",
       "      <th>X127</th>\n",
       "      <th>X266</th>\n",
       "      <th>X283</th>\n",
       "      <th>X61</th>\n",
       "      <th>X327</th>\n",
       "    </tr>\n",
       "  </thead>\n",
       "  <tbody>\n",
       "    <tr>\n",
       "      <th>0</th>\n",
       "      <td>0</td>\n",
       "      <td>0</td>\n",
       "      <td>0</td>\n",
       "      <td>0</td>\n",
       "      <td>0</td>\n",
       "      <td>0</td>\n",
       "      <td>0</td>\n",
       "      <td>0</td>\n",
       "      <td>0</td>\n",
       "      <td>0</td>\n",
       "      <td>...</td>\n",
       "      <td>0</td>\n",
       "      <td>0</td>\n",
       "      <td>0</td>\n",
       "      <td>0</td>\n",
       "      <td>0</td>\n",
       "      <td>0</td>\n",
       "      <td>1</td>\n",
       "      <td>0</td>\n",
       "      <td>0</td>\n",
       "      <td>1</td>\n",
       "    </tr>\n",
       "    <tr>\n",
       "      <th>1</th>\n",
       "      <td>0</td>\n",
       "      <td>0</td>\n",
       "      <td>0</td>\n",
       "      <td>0</td>\n",
       "      <td>1</td>\n",
       "      <td>1</td>\n",
       "      <td>0</td>\n",
       "      <td>0</td>\n",
       "      <td>1</td>\n",
       "      <td>0</td>\n",
       "      <td>...</td>\n",
       "      <td>0</td>\n",
       "      <td>0</td>\n",
       "      <td>0</td>\n",
       "      <td>0</td>\n",
       "      <td>0</td>\n",
       "      <td>1</td>\n",
       "      <td>0</td>\n",
       "      <td>0</td>\n",
       "      <td>1</td>\n",
       "      <td>0</td>\n",
       "    </tr>\n",
       "    <tr>\n",
       "      <th>2</th>\n",
       "      <td>0</td>\n",
       "      <td>0</td>\n",
       "      <td>0</td>\n",
       "      <td>0</td>\n",
       "      <td>1</td>\n",
       "      <td>0</td>\n",
       "      <td>0</td>\n",
       "      <td>0</td>\n",
       "      <td>1</td>\n",
       "      <td>0</td>\n",
       "      <td>...</td>\n",
       "      <td>0</td>\n",
       "      <td>1</td>\n",
       "      <td>0</td>\n",
       "      <td>1</td>\n",
       "      <td>0</td>\n",
       "      <td>0</td>\n",
       "      <td>0</td>\n",
       "      <td>0</td>\n",
       "      <td>1</td>\n",
       "      <td>0</td>\n",
       "    </tr>\n",
       "    <tr>\n",
       "      <th>3</th>\n",
       "      <td>0</td>\n",
       "      <td>0</td>\n",
       "      <td>0</td>\n",
       "      <td>0</td>\n",
       "      <td>1</td>\n",
       "      <td>0</td>\n",
       "      <td>0</td>\n",
       "      <td>0</td>\n",
       "      <td>1</td>\n",
       "      <td>0</td>\n",
       "      <td>...</td>\n",
       "      <td>0</td>\n",
       "      <td>0</td>\n",
       "      <td>0</td>\n",
       "      <td>1</td>\n",
       "      <td>0</td>\n",
       "      <td>0</td>\n",
       "      <td>0</td>\n",
       "      <td>0</td>\n",
       "      <td>1</td>\n",
       "      <td>0</td>\n",
       "    </tr>\n",
       "    <tr>\n",
       "      <th>4</th>\n",
       "      <td>0</td>\n",
       "      <td>0</td>\n",
       "      <td>0</td>\n",
       "      <td>0</td>\n",
       "      <td>1</td>\n",
       "      <td>0</td>\n",
       "      <td>0</td>\n",
       "      <td>0</td>\n",
       "      <td>1</td>\n",
       "      <td>0</td>\n",
       "      <td>...</td>\n",
       "      <td>0</td>\n",
       "      <td>0</td>\n",
       "      <td>0</td>\n",
       "      <td>1</td>\n",
       "      <td>0</td>\n",
       "      <td>0</td>\n",
       "      <td>0</td>\n",
       "      <td>0</td>\n",
       "      <td>1</td>\n",
       "      <td>0</td>\n",
       "    </tr>\n",
       "  </tbody>\n",
       "</table>\n",
       "<p>5 rows × 376 columns</p>\n",
       "</div>"
      ],
      "text/plain": [
       "   X243  X202  X352  X126  X304  X265  X253  X289  X101  X282  ...  X208  \\\n",
       "0     0     0     0     0     0     0     0     0     0     0  ...     0   \n",
       "1     0     0     0     0     1     1     0     0     1     0  ...     0   \n",
       "2     0     0     0     0     1     0     0     0     1     0  ...     0   \n",
       "3     0     0     0     0     1     0     0     0     1     0  ...     0   \n",
       "4     0     0     0     0     1     0     0     0     1     0  ...     0   \n",
       "\n",
       "   X163  X280  X54  X284  X127  X266  X283  X61  X327  \n",
       "0     0     0    0     0     0     1     0    0     1  \n",
       "1     0     0    0     0     1     0     0    1     0  \n",
       "2     1     0    1     0     0     0     0    1     0  \n",
       "3     0     0    1     0     0     0     0    1     0  \n",
       "4     0     0    1     0     0     0     0    1     0  \n",
       "\n",
       "[5 rows x 376 columns]"
      ]
     },
     "execution_count": 13,
     "metadata": {},
     "output_type": "execute_result"
    }
   ],
   "source": [
    "for column in usable_columns:\n",
    "    cardinality = len(np.unique(x_train[column]))\n",
    "    if cardinality == 1:\n",
    "        x_train.drop(column , axis=1)   # column with only 1 value is useless , so we drop it \n",
    "        x_test.drop(column , axis =1)   \n",
    "    \n",
    "    if cardinality > 2 :    # Column is Categorical \n",
    "        mapper = lambda x: sum([ord(digit) for digit in x])\n",
    "        x_train[column] = x_train[column].apply(mapper)\n",
    "        x_test[column] = x_test[column].apply(mapper)\n",
    "        \n",
    "x_train.head()"
   ]
  },
  {
   "cell_type": "markdown",
   "metadata": {},
   "source": [
    "#### Step 9 : Make sure the data is now changed into numericals "
   ]
  },
  {
   "cell_type": "code",
   "execution_count": 14,
   "metadata": {},
   "outputs": [
    {
     "name": "stdout",
     "output_type": "stream",
     "text": [
      "Feature Types: \n"
     ]
    },
    {
     "data": {
      "text/plain": [
       "int64    376\n",
       "dtype: int64"
      ]
     },
     "execution_count": 14,
     "metadata": {},
     "output_type": "execute_result"
    }
   ],
   "source": [
    "print('Feature Types: ')\n",
    "\n",
    "x_train[cols].dtypes.value_counts()"
   ]
  },
  {
   "cell_type": "markdown",
   "metadata": {},
   "source": [
    "#### Step 10 : Perform Dimensionality Reduction \n",
    "\n",
    "#### Linear Dimensionality Reduction using Single Value Decomposition of the data to project it to a lower dimensional space. "
   ]
  },
  {
   "cell_type": "code",
   "execution_count": 15,
   "metadata": {},
   "outputs": [],
   "source": [
    "n_comp = 12 \n",
    "pca = PCA(n_components = n_comp , random_state=420)\n",
    "pca2_results_train = pca.fit_transform(x_train)\n",
    "pca2_results_test = pca.transform(x_test)\n"
   ]
  },
  {
   "cell_type": "markdown",
   "metadata": {},
   "source": [
    "#### Step 11 : Training using XGBOOST"
   ]
  },
  {
   "cell_type": "code",
   "execution_count": 16,
   "metadata": {},
   "outputs": [],
   "source": [
    "import xgboost as xgb\n",
    "from sklearn.metrics import r2_score\n",
    "from sklearn.model_selection import train_test_split"
   ]
  },
  {
   "cell_type": "code",
   "execution_count": 17,
   "metadata": {},
   "outputs": [],
   "source": [
    "x_train,x_valid,y_train,y_valid = train_test_split(pca2_results_train, y_train , test_size = 0.2 , random_state=4242)"
   ]
  },
  {
   "cell_type": "code",
   "execution_count": 18,
   "metadata": {},
   "outputs": [],
   "source": [
    "d_train = xgb.DMatrix(x_train, label = y_train)\n",
    "d_valid = xgb.DMatrix(x_valid , label = y_valid)\n",
    "d_test = xgb.DMatrix(pca2_results_test)"
   ]
  },
  {
   "cell_type": "code",
   "execution_count": 19,
   "metadata": {},
   "outputs": [],
   "source": [
    "params = {}\n",
    "params['objective'] = 'reg:linear'\n",
    "params['eta'] = 0.02\n",
    "params['max_depth'] = 4"
   ]
  },
  {
   "cell_type": "code",
   "execution_count": 20,
   "metadata": {},
   "outputs": [
    {
     "data": {
      "text/plain": [
       "{'objective': 'reg:linear', 'eta': 0.02, 'max_depth': 4}"
      ]
     },
     "execution_count": 20,
     "metadata": {},
     "output_type": "execute_result"
    }
   ],
   "source": [
    "params  # its a Dictionary "
   ]
  },
  {
   "cell_type": "code",
   "execution_count": 21,
   "metadata": {},
   "outputs": [],
   "source": [
    "def xgb_r2_score(preds ,dtrain):\n",
    "        labels = dtrain.get_label()\n",
    "        return 'r2' ,r2_score(labels,preds)"
   ]
  },
  {
   "cell_type": "code",
   "execution_count": 22,
   "metadata": {},
   "outputs": [],
   "source": [
    "watchlist = [(d_train, 'train') , (d_valid,'valid')]"
   ]
  },
  {
   "cell_type": "code",
   "execution_count": 23,
   "metadata": {},
   "outputs": [
    {
     "data": {
      "text/plain": [
       "[(<xgboost.core.DMatrix at 0x1b161337460>, 'train'),\n",
       " (<xgboost.core.DMatrix at 0x1b161337400>, 'valid')]"
      ]
     },
     "execution_count": 23,
     "metadata": {},
     "output_type": "execute_result"
    }
   ],
   "source": [
    "watchlist"
   ]
  },
  {
   "cell_type": "code",
   "execution_count": 24,
   "metadata": {},
   "outputs": [
    {
     "name": "stdout",
     "output_type": "stream",
     "text": [
      "[15:51:51] WARNING: C:/Users/Administrator/workspace/xgboost-win64_release_1.4.0/src/objective/regression_obj.cu:171: reg:linear is now deprecated in favor of reg:squarederror.\n",
      "[0]\ttrain-rmse:99.14835\ttrain-r2:-58.35295\tvalid-rmse:98.26297\tvalid-r2:-67.63754\n",
      "[10]\ttrain-rmse:81.27653\ttrain-r2:-38.88428\tvalid-rmse:80.36433\tvalid-r2:-44.91014\n",
      "[20]\ttrain-rmse:66.71610\ttrain-r2:-25.87403\tvalid-rmse:65.77334\tvalid-r2:-29.75260\n",
      "[30]\ttrain-rmse:54.86915\ttrain-r2:-17.17724\tvalid-rmse:53.89120\tvalid-r2:-19.64513\n",
      "[40]\ttrain-rmse:45.24563\ttrain-r2:-11.36018\tvalid-rmse:44.22231\tvalid-r2:-12.90160\n",
      "[50]\ttrain-rmse:37.44742\ttrain-r2:-7.46672\tvalid-rmse:36.37773\tvalid-r2:-8.40705\n",
      "[60]\ttrain-rmse:31.15105\ttrain-r2:-4.85891\tvalid-rmse:30.01780\tvalid-r2:-5.40531\n",
      "[70]\ttrain-rmse:26.08768\ttrain-r2:-3.10906\tvalid-rmse:24.90852\tvalid-r2:-3.41040\n",
      "[80]\ttrain-rmse:22.04898\ttrain-r2:-1.93527\tvalid-rmse:20.82563\tvalid-r2:-2.08304\n",
      "[90]\ttrain-rmse:18.84731\ttrain-r2:-1.14472\tvalid-rmse:17.59529\tvalid-r2:-1.20077\n",
      "[100]\ttrain-rmse:16.33664\ttrain-r2:-0.61138\tvalid-rmse:15.07634\tvalid-r2:-0.61575\n",
      "[110]\ttrain-rmse:14.39753\ttrain-r2:-0.25155\tvalid-rmse:13.14553\tvalid-r2:-0.22839\n",
      "[120]\ttrain-rmse:12.92283\ttrain-r2:-0.00829\tvalid-rmse:11.68462\tvalid-r2:0.02947\n",
      "[130]\ttrain-rmse:11.80568\ttrain-r2:0.15850\tvalid-rmse:10.60862\tvalid-r2:0.19998\n",
      "[140]\ttrain-rmse:10.98451\ttrain-r2:0.27149\tvalid-rmse:9.85220\tvalid-r2:0.31000\n",
      "[150]\ttrain-rmse:10.37633\ttrain-r2:0.34993\tvalid-rmse:9.31972\tvalid-r2:0.38257\n",
      "[160]\ttrain-rmse:9.92645\ttrain-r2:0.40508\tvalid-rmse:8.95380\tvalid-r2:0.43010\n",
      "[170]\ttrain-rmse:9.59070\ttrain-r2:0.44464\tvalid-rmse:8.70880\tvalid-r2:0.46086\n",
      "[180]\ttrain-rmse:9.34351\ttrain-r2:0.47290\tvalid-rmse:8.54433\tvalid-r2:0.48104\n",
      "[190]\ttrain-rmse:9.15903\ttrain-r2:0.49351\tvalid-rmse:8.44378\tvalid-r2:0.49318\n",
      "[200]\ttrain-rmse:9.01815\ttrain-r2:0.50897\tvalid-rmse:8.38014\tvalid-r2:0.50079\n",
      "[210]\ttrain-rmse:8.90489\ttrain-r2:0.52123\tvalid-rmse:8.34061\tvalid-r2:0.50549\n",
      "[220]\ttrain-rmse:8.82493\ttrain-r2:0.52979\tvalid-rmse:8.31449\tvalid-r2:0.50858\n",
      "[230]\ttrain-rmse:8.76381\ttrain-r2:0.53628\tvalid-rmse:8.30336\tvalid-r2:0.50989\n",
      "[240]\ttrain-rmse:8.72069\ttrain-r2:0.54083\tvalid-rmse:8.29777\tvalid-r2:0.51055\n",
      "[250]\ttrain-rmse:8.67691\ttrain-r2:0.54543\tvalid-rmse:8.29089\tvalid-r2:0.51137\n",
      "[260]\ttrain-rmse:8.63892\ttrain-r2:0.54940\tvalid-rmse:8.28830\tvalid-r2:0.51167\n",
      "[270]\ttrain-rmse:8.59943\ttrain-r2:0.55351\tvalid-rmse:8.28538\tvalid-r2:0.51201\n",
      "[280]\ttrain-rmse:8.56736\ttrain-r2:0.55683\tvalid-rmse:8.28566\tvalid-r2:0.51198\n",
      "[290]\ttrain-rmse:8.53506\ttrain-r2:0.56017\tvalid-rmse:8.28506\tvalid-r2:0.51205\n",
      "[300]\ttrain-rmse:8.50944\ttrain-r2:0.56281\tvalid-rmse:8.28321\tvalid-r2:0.51227\n",
      "[310]\ttrain-rmse:8.47990\ttrain-r2:0.56584\tvalid-rmse:8.28330\tvalid-r2:0.51226\n",
      "[320]\ttrain-rmse:8.45507\ttrain-r2:0.56838\tvalid-rmse:8.28135\tvalid-r2:0.51249\n",
      "[330]\ttrain-rmse:8.43032\ttrain-r2:0.57090\tvalid-rmse:8.27856\tvalid-r2:0.51282\n",
      "[340]\ttrain-rmse:8.41250\ttrain-r2:0.57271\tvalid-rmse:8.27964\tvalid-r2:0.51269\n",
      "[350]\ttrain-rmse:8.38338\ttrain-r2:0.57566\tvalid-rmse:8.27362\tvalid-r2:0.51340\n",
      "[360]\ttrain-rmse:8.36182\ttrain-r2:0.57784\tvalid-rmse:8.27099\tvalid-r2:0.51371\n",
      "[370]\ttrain-rmse:8.33571\ttrain-r2:0.58048\tvalid-rmse:8.26732\tvalid-r2:0.51414\n",
      "[380]\ttrain-rmse:8.31090\ttrain-r2:0.58297\tvalid-rmse:8.26287\tvalid-r2:0.51466\n",
      "[390]\ttrain-rmse:8.29111\ttrain-r2:0.58495\tvalid-rmse:8.26179\tvalid-r2:0.51479\n",
      "[400]\ttrain-rmse:8.26885\ttrain-r2:0.58718\tvalid-rmse:8.25922\tvalid-r2:0.51509\n",
      "[410]\ttrain-rmse:8.24427\ttrain-r2:0.58963\tvalid-rmse:8.25455\tvalid-r2:0.51564\n",
      "[420]\ttrain-rmse:8.22474\ttrain-r2:0.59157\tvalid-rmse:8.25462\tvalid-r2:0.51563\n",
      "[430]\ttrain-rmse:8.19611\ttrain-r2:0.59441\tvalid-rmse:8.25301\tvalid-r2:0.51582\n",
      "[440]\ttrain-rmse:8.17389\ttrain-r2:0.59661\tvalid-rmse:8.25000\tvalid-r2:0.51617\n",
      "[450]\ttrain-rmse:8.14551\ttrain-r2:0.59940\tvalid-rmse:8.25088\tvalid-r2:0.51607\n",
      "[460]\ttrain-rmse:8.12275\ttrain-r2:0.60164\tvalid-rmse:8.25175\tvalid-r2:0.51597\n",
      "[470]\ttrain-rmse:8.09626\ttrain-r2:0.60423\tvalid-rmse:8.25144\tvalid-r2:0.51600\n",
      "[480]\ttrain-rmse:8.07127\ttrain-r2:0.60667\tvalid-rmse:8.25447\tvalid-r2:0.51565\n",
      "[488]\ttrain-rmse:8.05427\ttrain-r2:0.60833\tvalid-rmse:8.25414\tvalid-r2:0.51569\n"
     ]
    }
   ],
   "source": [
    "clf = xgb.train(params ,d_train ,1000 ,watchlist ,early_stopping_rounds=50 ,feval =xgb_r2_score ,maximize=True ,verbose_eval=10)"
   ]
  },
  {
   "cell_type": "markdown",
   "metadata": {},
   "source": [
    "#### Step 12: Predict your test_df values using xgboost"
   ]
  },
  {
   "cell_type": "code",
   "execution_count": 25,
   "metadata": {},
   "outputs": [],
   "source": [
    "p_test = clf.predict(d_test)"
   ]
  },
  {
   "cell_type": "code",
   "execution_count": 26,
   "metadata": {},
   "outputs": [
    {
     "data": {
      "text/plain": [
       "array([ 83.01027,  97.86023,  83.30593, ...,  98.83134, 107.41438,\n",
       "        96.70509], dtype=float32)"
      ]
     },
     "execution_count": 26,
     "metadata": {},
     "output_type": "execute_result"
    }
   ],
   "source": [
    "p_test"
   ]
  },
  {
   "cell_type": "code",
   "execution_count": 27,
   "metadata": {},
   "outputs": [],
   "source": [
    "sub = pd.DataFrame()\n",
    "sub['ID'] = id_test\n",
    "sub['y'] = p_test\n",
    "sub.to_csv('xgb.csv' , index=False)\n",
    "\n"
   ]
  },
  {
   "cell_type": "code",
   "execution_count": 28,
   "metadata": {},
   "outputs": [
    {
     "data": {
      "text/html": [
       "<div>\n",
       "<style scoped>\n",
       "    .dataframe tbody tr th:only-of-type {\n",
       "        vertical-align: middle;\n",
       "    }\n",
       "\n",
       "    .dataframe tbody tr th {\n",
       "        vertical-align: top;\n",
       "    }\n",
       "\n",
       "    .dataframe thead th {\n",
       "        text-align: right;\n",
       "    }\n",
       "</style>\n",
       "<table border=\"1\" class=\"dataframe\">\n",
       "  <thead>\n",
       "    <tr style=\"text-align: right;\">\n",
       "      <th></th>\n",
       "      <th>ID</th>\n",
       "      <th>y</th>\n",
       "    </tr>\n",
       "  </thead>\n",
       "  <tbody>\n",
       "    <tr>\n",
       "      <th>0</th>\n",
       "      <td>1</td>\n",
       "      <td>83.010269</td>\n",
       "    </tr>\n",
       "    <tr>\n",
       "      <th>1</th>\n",
       "      <td>2</td>\n",
       "      <td>97.860229</td>\n",
       "    </tr>\n",
       "    <tr>\n",
       "      <th>2</th>\n",
       "      <td>3</td>\n",
       "      <td>83.305931</td>\n",
       "    </tr>\n",
       "    <tr>\n",
       "      <th>3</th>\n",
       "      <td>4</td>\n",
       "      <td>77.200882</td>\n",
       "    </tr>\n",
       "    <tr>\n",
       "      <th>4</th>\n",
       "      <td>5</td>\n",
       "      <td>112.303635</td>\n",
       "    </tr>\n",
       "  </tbody>\n",
       "</table>\n",
       "</div>"
      ],
      "text/plain": [
       "   ID           y\n",
       "0   1   83.010269\n",
       "1   2   97.860229\n",
       "2   3   83.305931\n",
       "3   4   77.200882\n",
       "4   5  112.303635"
      ]
     },
     "execution_count": 28,
     "metadata": {},
     "output_type": "execute_result"
    }
   ],
   "source": [
    "sub.head()"
   ]
  },
  {
   "cell_type": "markdown",
   "metadata": {},
   "source": [
    "######################################################################\n",
    "\n",
    "    '''                          End                        '''\n",
    "\n",
    "######################################################################"
   ]
  },
  {
   "cell_type": "code",
   "execution_count": null,
   "metadata": {},
   "outputs": [],
   "source": []
  }
 ],
 "metadata": {
  "kernelspec": {
   "display_name": "Python 3",
   "language": "python",
   "name": "python3"
  },
  "language_info": {
   "codemirror_mode": {
    "name": "ipython",
    "version": 3
   },
   "file_extension": ".py",
   "mimetype": "text/x-python",
   "name": "python",
   "nbconvert_exporter": "python",
   "pygments_lexer": "ipython3",
   "version": "3.8.5"
  }
 },
 "nbformat": 4,
 "nbformat_minor": 4
}
